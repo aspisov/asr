{
  "cells": [
    {
      "cell_type": "code",
      "execution_count": null,
      "metadata": {},
      "outputs": [],
      "source": [
        "!pip install --quiet gdown tqdm"
      ]
    },
    {
      "cell_type": "code",
      "execution_count": null,
      "metadata": {
        "colab": {
          "base_uri": "https://localhost:8080/"
        },
        "id": "W7p_6WBfo72U",
        "outputId": "546dfa17-b99b-483e-f9c7-a18faac62be8"
      },
      "outputs": [],
      "source": [
        "!git clone https://github.com/aspisov/asr.git"
      ]
    },
    {
      "cell_type": "code",
      "execution_count": null,
      "metadata": {
        "id": "exx24sj660hy"
      },
      "outputs": [],
      "source": [
        "import subprocess\n",
        "import os\n",
        "\n",
        "subprocess.run([\"git\", \"checkout\", \"dev\"], cwd=\"asr\")\n",
        "subprocess.run([\"uv\", \"sync\"], cwd=\"asr\")"
      ]
    },
    {
      "cell_type": "code",
      "execution_count": null,
      "metadata": {
        "colab": {
          "base_uri": "https://localhost:8080/"
        },
        "id": "OPwQmBwL0n5s",
        "outputId": "7c6d5dac-d8d0-4fed-ad88-449079b6157d"
      },
      "outputs": [],
      "source": [
        "!wget https://huggingface.co/aspisov/asr/resolve/main/model_best-193347.pth -O asr/model_best.pth"
      ]
    },
    {
      "cell_type": "code",
      "execution_count": null,
      "metadata": {
        "colab": {
          "base_uri": "https://localhost:8080/"
        },
        "id": "jqPGi7-dyFw0",
        "outputId": "5f84c29e-578e-4b9e-bd16-661cbe9af989"
      },
      "outputs": [],
      "source": [
        "!mkdir asr/saved\n",
        "!wget https://openslr.trmal.net/resources/11/librispeech-vocab.txt -O asr/saved/librispeech-vocab.txt\n",
        "!wget https://openslr.trmal.net/resources/11/3-gram.arpa.gz -O asr/saved/3-gram.arpa.gz"
      ]
    },
    {
      "cell_type": "code",
      "execution_count": null,
      "metadata": {
        "id": "GPvXb__g877R"
      },
      "outputs": [],
      "source": [
        "!gunzip asr/saved/3-gram.arpa.gz"
      ]
    },
    {
      "cell_type": "code",
      "execution_count": null,
      "metadata": {
        "colab": {
          "base_uri": "https://localhost:8080/"
        },
        "id": "Ccxtqes9ppe5",
        "outputId": "5f4e7bfd-fb10-4956-ca63-ed5ab687b21b"
      },
      "outputs": [],
      "source": [
        "import os, subprocess\n",
        "\n",
        "env = os.environ.copy()\n",
        "env[\"MPLBACKEND\"] = \"Agg\"\n",
        "\n",
        "result = subprocess.run(\n",
        "    [\"uv\", \"run\", \"python3\", \"inference.py\", \"-cn=inference_test_clean.yaml\", \"inferencer.from_pretrained=model_best.pth\"],\n",
        "    cwd=\"asr\",\n",
        "    env=env,\n",
        "    capture_output=True,\n",
        "    text=True\n",
        ")\n",
        "print(result.stdout)\n",
        "print(result.stderr)"
      ]
    },
    {
      "cell_type": "code",
      "execution_count": null,
      "metadata": {
        "id": "obkHsfVhxQFq"
      },
      "outputs": [],
      "source": []
    }
  ],
  "metadata": {
    "accelerator": "GPU",
    "colab": {
      "gpuType": "T4",
      "provenance": []
    },
    "kernelspec": {
      "display_name": "base13",
      "language": "python",
      "name": "python3"
    },
    "language_info": {
      "codemirror_mode": {
        "name": "ipython",
        "version": 3
      },
      "file_extension": ".py",
      "mimetype": "text/x-python",
      "name": "python",
      "nbconvert_exporter": "python",
      "pygments_lexer": "ipython3",
      "version": "3.13.1"
    }
  },
  "nbformat": 4,
  "nbformat_minor": 0
}
